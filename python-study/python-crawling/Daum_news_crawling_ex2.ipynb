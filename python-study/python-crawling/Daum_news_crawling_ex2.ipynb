{
 "cells": [
  {
   "cell_type": "code",
   "execution_count": null,
   "metadata": {},
   "outputs": [],
   "source": [
    "import requests\n",
    "from bs4 import BeautifulSoup\n",
    "\n",
    "source = requests.get(\"https://www.naver.com/\").text\n",
    "soup = BeautifulSoup(source, \"html.parser\")\n",
    "\n",
    "# html.parser ?\n",
    "# 웹페이지에 기술한 HTML 소스를 분석해주는 프로그램\n",
    "\n",
    "keyword = soup.select(\"a.issue\")\n",
    "\n",
    "for key in keyword:\n",
    "    print(key.text)"
   ]
  }
 ],
 "metadata": {
  "kernelspec": {
   "display_name": "Python 3",
   "language": "python",
   "name": "python3"
  },
  "language_info": {
   "codemirror_mode": {
    "name": "ipython",
    "version": 3
   },
   "file_extension": ".py",
   "mimetype": "text/x-python",
   "name": "python",
   "nbconvert_exporter": "python",
   "pygments_lexer": "ipython3",
   "version": "3.8.3"
  }
 },
 "nbformat": 4,
 "nbformat_minor": 4
}
