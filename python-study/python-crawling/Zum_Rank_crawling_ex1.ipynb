{
 "cells": [
  {
   "cell_type": "code",
   "execution_count": 46,
   "metadata": {},
   "outputs": [
    {
     "name": "stdout",
     "output_type": "stream",
     "text": [
      "유인석\n",
      "박한별\n",
      "도봉구청\n",
      "승리\n",
      "트와이스 표절\n",
      "비말차단용마스크\n",
      "서울과학기술대학교\n",
      "이해찬\n",
      "가스라이팅 뜻\n",
      "알테오젠\n",
      "유인석\n",
      "박한별\n",
      "도봉구청\n",
      "승리\n",
      "트와이스 표절\n",
      "비말차단용마스크\n",
      "서울과학기술대학교\n",
      "이해찬\n",
      "가스라이팅 뜻\n",
      "알테오젠\n"
     ]
    }
   ],
   "source": [
    "import requests\n",
    "from bs4 import BeautifulSoup\n",
    "\n",
    "source = requests.get(\"https://www.zum.com/\").text\n",
    "soup = BeautifulSoup(source, \"html.parser\")\n",
    "\n",
    "# html.parser ?\n",
    "# 웹페이지에 기술한 HTML 소스를 분석해주는 프로그램\n",
    "\n",
    "keyword = soup.select(\"div.issue_keyword_total ul.rank_list.d_rank_list.d_rank_keyword_0 a.d_btn_keyword.d_ready span.keyword.d_keyword\")\n",
    "\n",
    "for key in keyword:\n",
    "    print(key.text)"
   ]
  },
  {
   "cell_type": "code",
   "execution_count": null,
   "metadata": {},
   "outputs": [],
   "source": []
  }
 ],
 "metadata": {
  "kernelspec": {
   "display_name": "Python 3",
   "language": "python",
   "name": "python3"
  },
  "language_info": {
   "codemirror_mode": {
    "name": "ipython",
    "version": 3
   },
   "file_extension": ".py",
   "mimetype": "text/x-python",
   "name": "python",
   "nbconvert_exporter": "python",
   "pygments_lexer": "ipython3",
   "version": "3.8.3"
  }
 },
 "nbformat": 4,
 "nbformat_minor": 4
}
