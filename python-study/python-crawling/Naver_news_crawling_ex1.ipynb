{
 "cells": [
  {
   "cell_type": "code",
   "execution_count": 3,
   "metadata": {},
   "outputs": [
    {
     "name": "stdout",
     "output_type": "stream",
     "text": [
      "문대통령 28일 양당 원내대표 회동…국정전반 대화\n",
      "유은혜 \"27일 등교 예정대로…등교인원 3분의 2 안넘도록 권고\"\n",
      "클럽발 누적 확진자 225명…129명은 접촉 감염 'n차 전파' 비상\n",
      "김정은, 군부 기강 잡으며 '핵억제력'으로 미국 압박하나\n",
      "이용수 할머니 25일 대구서 2차 기자회견…윤미향 불참할 듯\n",
      "'홍콩보안법' 반대 격렬 시위…홍콩 경찰, 최루탄·물대포 쏴\n",
      "\"서울대 연구진실성위, '조국 논문표절 의혹' 본조사 끝내\"\n",
      "6세 자폐아 시부모집서 '의문의 추락사'…엄마 \"진실 밝혀달라\"\n",
      "소형 보트에 뚫린 서해안 경계태세…주민 신고로 뒷북 조사\n",
      "유튜버 해외서 받는 수익 누락·축소…과세 사각지대 될라\n"
     ]
    }
   ],
   "source": [
    "import requests\n",
    "from bs4 import BeautifulSoup\n",
    "\n",
    "source = requests.get(\"https://www.naver.com/\").text\n",
    "soup = BeautifulSoup(source, \"html.parser\")\n",
    "\n",
    "# html.parser ?\n",
    "# 웹페이지에 기술한 HTML 소스를 분석해주는 프로그램\n",
    "\n",
    "keyword = soup.select(\"a.issue\")\n",
    "\n",
    "for key in keyword:\n",
    "    print(key.text)"
   ]
  },
  {
   "cell_type": "code",
   "execution_count": null,
   "metadata": {},
   "outputs": [],
   "source": []
  }
 ],
 "metadata": {
  "kernelspec": {
   "display_name": "Python 3",
   "language": "python",
   "name": "python3"
  },
  "language_info": {
   "codemirror_mode": {
    "name": "ipython",
    "version": 3
   },
   "file_extension": ".py",
   "mimetype": "text/x-python",
   "name": "python",
   "nbconvert_exporter": "python",
   "pygments_lexer": "ipython3",
   "version": "3.8.3"
  }
 },
 "nbformat": 4,
 "nbformat_minor": 4
}
