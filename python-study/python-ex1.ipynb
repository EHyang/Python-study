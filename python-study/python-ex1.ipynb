{
 "cells": [
  {
   "cell_type": "code",
   "execution_count": 1,
   "metadata": {},
   "outputs": [
    {
     "name": "stdout",
     "output_type": "stream",
     "text": [
      "13\n"
     ]
    }
   ],
   "source": [
    "x = 7\n",
    "y = 6\n",
    "print(x+y)"
   ]
  },
  {
   "cell_type": "code",
   "execution_count": 3,
   "metadata": {},
   "outputs": [
    {
     "name": "stdout",
     "output_type": "stream",
     "text": [
      "76\n"
     ]
    }
   ],
   "source": [
    "x = '7'\n",
    "y = '6'\n",
    "print(x+y)\n",
    "# 문자로 인식"
   ]
  },
  {
   "cell_type": "code",
   "execution_count": 7,
   "metadata": {},
   "outputs": [
    {
     "name": "stdout",
     "output_type": "stream",
     "text": [
      "정수 입력 : 1\n",
      "정수 입력 : 3\n",
      "합은 : 4\n"
     ]
    }
   ],
   "source": [
    "x = int(input(\"정수 입력 : \"))\n",
    "y = int(input(\"정수 입력 : \"))\n",
    "\n",
    "sum = x+y\n",
    "print(\"합은 :\",sum)"
   ]
  },
  {
   "cell_type": "code",
   "execution_count": 10,
   "metadata": {},
   "outputs": [
    {
     "name": "stdout",
     "output_type": "stream",
     "text": [
      "이름을 입력하시오:김태양\n",
      "김태양 씨, 안녕하세요?\n",
      "파이썬에 오신 것을 환영합니다.\n",
      "첫번째 정수를 입력하시오: 200\n",
      "두번째 정수를 입력하시오: 300\n",
      "200 과 300 의 합은 500 입니다.\n"
     ]
    }
   ],
   "source": [
    "# 문제 1\n",
    "\n",
    "name = input(\"이름을 입력하시오:\")\n",
    "print(name,\"씨, 안녕하세요?\\n파이썬에 오신 것을 환영합니다.\")\n",
    "\n",
    "x = int(input(\"첫번째 정수를 입력하시오: \"))\n",
    "y = int(input(\"두번째 정수를 입력하시오: \"))\n",
    "\n",
    "print(x,\"과\",y,\"의 합은\",x+y,\"입니다.\")"
   ]
  },
  {
   "cell_type": "code",
   "execution_count": 13,
   "metadata": {},
   "outputs": [
    {
     "name": "stdout",
     "output_type": "stream",
     "text": [
      "경기장은 어디입니까?서울\n",
      "이긴팀은 어디입니까?삼성\n",
      "진팀은 어디입니까?LG\n",
      "우수선수는 누구입니까?홍길동\n",
      "스코어는 몇대몇입니까?8:7\n",
      "=========================\n",
      "오늘 서울 에서 야구 경기가 열렸습니다.\n",
      "삼성 과 LG 은 치열항 공방전을 펼쳤습니다.\n",
      "홍길동 이 맹활약을 하였습니다.\n",
      "결국 삼성 가 LG 를 8:7 로 이겼습니다.\n",
      "=========================\n"
     ]
    }
   ],
   "source": [
    "# 문제 2\n",
    "\n",
    "field = input(\"경기장은 어디입니까?\")\n",
    "win = input(\"이긴팀은 어디입니까?\")\n",
    "lose = input(\"진팀은 어디입니까?\")\n",
    "mvp = input(\"우수선수는 누구입니까?\")\n",
    "score = input(\"스코어는 몇대몇입니까?\")\n",
    "\n",
    "print(\"=========================\")\n",
    "print(\"오늘\",field,\"에서 야구 경기가 열렸습니다.\")\n",
    "print(win,\"과\",lose,\"은 치열항 공방전을 펼쳤습니다.\")\n",
    "print(mvp,\"이 맹활약을 하였습니다.\")\n",
    "print(\"결국\",win,\"가\",lose,\"를\",score,\"로 이겼습니다.\")\n",
    "print(\"=========================\")"
   ]
  },
  {
   "cell_type": "code",
   "execution_count": 14,
   "metadata": {},
   "outputs": [
    {
     "name": "stdout",
     "output_type": "stream",
     "text": [
      "아메리카노 판매 개수 : 10\n",
      "카페라떼 판매 개수 : 20\n",
      "카푸치노 판매 개수 : 30\n",
      "총 매출은 185000 입니다.\n"
     ]
    }
   ],
   "source": [
    "# 문제 3\n",
    "\n",
    "ame_price = 2000\n",
    "latte_price = 3000\n",
    "cafu_price = 3500\n",
    "\n",
    "ame = int(input(\"아메리카노 판매 개수 : \"))\n",
    "latte = int(input(\"카페라떼 판매 개수 : \"))\n",
    "cafu = int(input(\"카푸치노 판매 개수 : \"))\n",
    "\n",
    "all = (ame * ame_price) + (latte * latte_price) + (cafu * cafu_price)\n",
    "\n",
    "print(\"총 매출은\",all,\"입니다.\")"
   ]
  },
  {
   "cell_type": "code",
   "execution_count": 16,
   "metadata": {
    "scrolled": false
   },
   "outputs": [
    {
     "name": "stdout",
     "output_type": "stream",
     "text": [
      "총 재료 비용 : 100000\n",
      "아메리카노 판매 개수 : 10\n",
      "카페라떼 판매 개수 : 20\n",
      "카푸치노 판매 개수 : 30\n",
      "총 매출은 185000 입니다.\n",
      "오늘은 흑자 입니다.\n"
     ]
    }
   ],
   "source": [
    "# 문제 3-1\n",
    "\n",
    "pee = int(input(\"총 재료 비용 : \"))\n",
    "\n",
    "ame_price = 2000\n",
    "latte_price = 3000\n",
    "cafu_price = 3500\n",
    "\n",
    "ame = int(input(\"아메리카노 판매 개수 : \"))\n",
    "latte = int(input(\"카페라떼 판매 개수 : \"))\n",
    "cafu = int(input(\"카푸치노 판매 개수 : \"))\n",
    "\n",
    "all = (ame * ame_price) + (latte * latte_price) + (cafu * cafu_price)\n",
    "\n",
    "print(\"총 매출은\",all,\"입니다.\")\n",
    "\n",
    "status = \"흑자\" if all-pee >= 0 else \"적자\"\n",
    "print(\"오늘은\",status,\"입니다.\")"
   ]
  },
  {
   "cell_type": "code",
   "execution_count": 17,
   "metadata": {},
   "outputs": [
    {
     "name": "stdout",
     "output_type": "stream",
     "text": [
      "화씨온도 : 100\n",
      "섭씨온도 : 37.77777777777778\n"
     ]
    }
   ],
   "source": [
    "# 문제 4\n",
    "\n",
    "f = int(input(\"화씨온도 : \"))\n",
    "\n",
    "c = (f-32)*(5/9)\n",
    "\n",
    "print(\"섭씨온도 :\",c)"
   ]
  },
  {
   "cell_type": "code",
   "execution_count": 20,
   "metadata": {},
   "outputs": [
    {
     "name": "stdout",
     "output_type": "stream",
     "text": [
      "섭씨온도 : 37.77777777777778\n",
      "화씨온도 : 100.0\n"
     ]
    }
   ],
   "source": [
    "# 문제 4-1\n",
    "\n",
    "c = float(input(\"섭씨온도 : \"))\n",
    "\n",
    "f = (c*(9/5)+32)\n",
    "\n",
    "print(\"화씨온도 :\",f)"
   ]
  },
  {
   "cell_type": "code",
   "execution_count": 21,
   "metadata": {},
   "outputs": [
    {
     "name": "stdout",
     "output_type": "stream",
     "text": [
      "몸무게를 kg 단위로 입력하시오 : 85.0\n",
      "키를 미터 단위로 입력하시오 : 1.83\n",
      "당신의 BMI = 25.381468541909282\n"
     ]
    }
   ],
   "source": [
    "# 문제 5\n",
    "\n",
    "weight = float(input(\"몸무게를 kg 단위로 입력하시오 : \"))\n",
    "cm = float(input(\"키를 미터 단위로 입력하시오 : \"))\n",
    "\n",
    "BMI = weight / (cm * cm)\n",
    "\n",
    "print(\"당신의 BMI =\",BMI)"
   ]
  },
  {
   "cell_type": "code",
   "execution_count": 27,
   "metadata": {},
   "outputs": [
    {
     "name": "stdout",
     "output_type": "stream",
     "text": [
      "투입한 돈 : 5000\n",
      "물건 값 : 2600\n",
      "거스름돈 : 2400\n",
      "500원 동전의 개수 : 4\n",
      "100원 동전의 개수 : 4\n"
     ]
    }
   ],
   "source": [
    "# 문제 6\n",
    "\n",
    "put = int(input(\"투입한 돈 : \"))\n",
    "stuff = int(input(\"물건 값 : \"))\n",
    "\n",
    "ch = put - stuff\n",
    "\n",
    "print(\"거스름돈 :\",ch)\n",
    "\n",
    "print(\"500원 동전의 개수 :\",ch//500)\n",
    "\n",
    "ch %= 500\n",
    "\n",
    "print(\"100원 동전의 개수 :\",ch//100)"
   ]
  },
  {
   "cell_type": "code",
   "execution_count": 30,
   "metadata": {},
   "outputs": [
    {
     "name": "stdout",
     "output_type": "stream",
     "text": [
      "o\n",
      "Monty\n"
     ]
    }
   ],
   "source": [
    "s = \"Monty Python\"\n",
    "\n",
    "print(s[1:2])\n",
    "print(s[-12:-7])"
   ]
  },
  {
   "cell_type": "code",
   "execution_count": 47,
   "metadata": {},
   "outputs": [
    {
     "name": "stdout",
     "output_type": "stream",
     "text": [
      "==================================\n",
      "안녕하세요?\n",
      "이름이 어떻게 되시나요? 홍길동\n",
      "만나서 반갑습니다. 홍길동 씨\n",
      "이름의 길이는 다음과 같군요 : 3\n",
      "나이가 어떻게 되나요? 22\n",
      "내년이면 23 이 되시는군요.\n"
     ]
    }
   ],
   "source": [
    "# 문제 7\n",
    "\n",
    "print(\"==================================\")\n",
    "print(\"안녕하세요?\")\n",
    "name = input(\"이름이 어떻게 되시나요? \")\n",
    "print(\"만나서 반갑습니다. {0} 씨\\n이름의 길이는 다음과 같군요 : {1}\".format(name,len(name)))\n",
    "age = int(input(\"나이가 어떻게 되나요? \"))\n",
    "print(\"내년이면 %d 이 되시는군요.\" % (age +1))"
   ]
  },
  {
   "cell_type": "code",
   "execution_count": 48,
   "metadata": {},
   "outputs": [
    {
     "name": "stdout",
     "output_type": "stream",
     "text": [
      "==================================\n",
      "안녕하세요?\n",
      "이름이 어떻게 되시나요? 홍길동\n",
      "만나서 반갑습니다. 홍길동 씨\n",
      "이름의 길이는 다음과 같군요 : 3\n",
      "나이가 어떻게 되나요? 23\n",
      "내년이면 24 이 되시는군요.\n",
      "취미가 무엇인가요? 영화감상\n",
      "네 저도 영화감상 좋아합니다.\n"
     ]
    }
   ],
   "source": [
    "# 문제 7-1\n",
    "\n",
    "print(\"==================================\")\n",
    "print(\"안녕하세요?\")\n",
    "name = input(\"이름이 어떻게 되시나요? \")\n",
    "print(\"만나서 반갑습니다. {0} 씨\\n이름의 길이는 다음과 같군요 : {1}\".format(name,len(name)))\n",
    "age = int(input(\"나이가 어떻게 되나요? \"))\n",
    "print(\"내년이면 %d 이 되시는군요.\" % (age +1))\n",
    "\n",
    "hobby = input(\"취미가 무엇인가요? \")\n",
    "print(\"네 저도 %s 좋아합니다.\" %hobby)"
   ]
  },
  {
   "cell_type": "code",
   "execution_count": 49,
   "metadata": {},
   "outputs": [
    {
     "name": "stdout",
     "output_type": "stream",
     "text": [
      "오늘의 연도를 입력하시오 : 2020\n",
      "오늘의 월을 입력하시오 : 05\n",
      "오늘의 일을 입력하시오 : 28\n",
      "오늘은 2020년 05월 28일입니다.\n"
     ]
    }
   ],
   "source": [
    "# 문제 8\n",
    "\n",
    "year = input(\"오늘의 연도를 입력하시오 : \")\n",
    "month = input(\"오늘의 월을 입력하시오 : \")\n",
    "day = input(\"오늘의 일을 입력하시오 : \")\n",
    "\n",
    "print(\"오늘은 {0}년 {1}월 {2}일입니다.\".format(year,month,day))"
   ]
  },
  {
   "cell_type": "code",
   "execution_count": 55,
   "metadata": {},
   "outputs": [
    {
     "name": "stdout",
     "output_type": "stream",
     "text": [
      "올해는 2020입니다.\n",
      "몇 살 이신지요? :26\n",
      "2050년에는 56살 이시군요\n"
     ]
    }
   ],
   "source": [
    "# 문제 9\n",
    "\n",
    "import time\n",
    "now = time.time()\n",
    "thisYear = int(1970 + now//(365*24*3600))\n",
    "print(\"올해는 %d입니다.\"%thisYear)\n",
    "\n",
    "age = int(input(\"몇 살 이신지요? :\"))\n",
    "\n",
    "print(\"2050년에는 %d살 이시군요\"%(age + 2050 - thisYear))"
   ]
  },
  {
   "cell_type": "code",
   "execution_count": 56,
   "metadata": {},
   "outputs": [
    {
     "name": "stdout",
     "output_type": "stream",
     "text": [
      "나이를 입력하시오 : 12\n",
      "이 영화를 보실 수 없습니다. \n",
      "다른 영화를 보시겠어요?\n"
     ]
    }
   ],
   "source": [
    "# 문제 10\n",
    "\n",
    "age = int(input(\"나이를 입력하시오 : \"))\n",
    "if age >= 15:\n",
    "    print(\"이 영화를 보실 수 있습니다. \\n영화의 가격은 10000원 입니다.\")\n",
    "else:\n",
    "    print(\"이 영화를 보실 수 없습니다. \\n다른 영화를 보시겠어요?\")"
   ]
  },
  {
   "cell_type": "code",
   "execution_count": 24,
   "metadata": {},
   "outputs": [
    {
     "name": "stdout",
     "output_type": "stream",
     "text": [
      "좋은 아침입니다. 지금 시각은 12시 입니다.\n",
      "현재 날씨가 화창합니다.\n",
      "종달새가 노래하지 않습니다.\n"
     ]
    }
   ],
   "source": [
    "# 문제 11\n",
    "\n",
    "import random\n",
    "time = random.randint(1, 24)\n",
    "weather = random.choice([True,False])\n",
    "\n",
    "print(\"좋은 아침입니다. 지금 시각은 %d시 입니다.\"%time)\n",
    "if weather:\n",
    "    print(\"현재 날씨가 화창합니다.\")\n",
    "else:\n",
    "    print(\"현재 날씨가 화창하지 않습니다.\")\n",
    "    \n",
    "if weather and time >= 6 and time < 9:\n",
    "    print(\"종달새가 노래합니다.\")\n",
    "else:\n",
    "    print(\"종달새가 노래하지 않습니다.\")"
   ]
  },
  {
   "cell_type": "code",
   "execution_count": 25,
   "metadata": {},
   "outputs": [
    {
     "name": "stdout",
     "output_type": "stream",
     "text": [
      "아이디를 입력하시오 :xodid0936\n",
      "비밀번호를 입력하세요 :123456789\n",
      "환영합니다.\n"
     ]
    }
   ],
   "source": [
    "# 문제 12\n",
    "\n",
    "id = \"xodid0936\"\n",
    "pw = \"123456789\"\n",
    "\n",
    "s = input(\"아이디를 입력하시오 :\")\n",
    "\n",
    "if s == id:\n",
    "    p = input(\"비밀번호를 입력하세요 :\")\n",
    "    if p == pw:\n",
    "        print(\"환영합니다.\")\n",
    "    else :\n",
    "        print(\"비밀번호가 맞지 않습니다.\")\n",
    "        \n",
    "else:\n",
    "    print(\"아이디를 찾을 수 없습니다.\")"
   ]
  },
  {
   "cell_type": "code",
   "execution_count": 4,
   "metadata": {},
   "outputs": [
    {
     "name": "stdout",
     "output_type": "stream",
     "text": [
      "서울\n",
      "종로\n",
      "여기\n"
     ]
    }
   ],
   "source": [
    "#함수\n",
    "def print_address():\n",
    "    print(\"서울\")\n",
    "    print(\"종로\")\n",
    "    print(\"여기\")\n",
    "    \n",
    "print_address()"
   ]
  },
  {
   "cell_type": "code",
   "execution_count": 6,
   "metadata": {},
   "outputs": [
    {
     "name": "stdout",
     "output_type": "stream",
     "text": [
      "안녕하세요 제 이름은 태양입니다.\n"
     ]
    }
   ],
   "source": [
    "def print_personal(name):\n",
    "    print(\"안녕하세요 제 이름은 {}입니다.\".format(name))\n",
    "    \n",
    "print_personal(\"태양\")"
   ]
  },
  {
   "cell_type": "code",
   "execution_count": 8,
   "metadata": {},
   "outputs": [
    {
     "name": "stdout",
     "output_type": "stream",
     "text": [
      "1 더하기 2 은 3 입니다.\n"
     ]
    }
   ],
   "source": [
    "def calc_a(a,b):\n",
    "    return a+b\n",
    "\n",
    "print(\"{0} 더하기 {1} 은 {2} 입니다.\".format(1,2,calc_a(1,2)))"
   ]
  },
  {
   "cell_type": "code",
   "execution_count": 10,
   "metadata": {},
   "outputs": [
    {
     "name": "stdout",
     "output_type": "stream",
     "text": [
      "도형의 모형 : 사각형\n",
      "반지름 또는 한변의 길이 : 4\n",
      "16.0\n"
     ]
    }
   ],
   "source": [
    "def calc_area(shape,r):\n",
    "    global area\n",
    "    if shape == \"원\":\n",
    "        area = 3.14 * r**2\n",
    "        return\n",
    "    if shape == \"사각형\":\n",
    "        area = r**2\n",
    "        return\n",
    "    if shape == \"삼각형\":\n",
    "        area = 0.5 * r**2\n",
    "        return\n",
    "    \n",
    "area = 0\n",
    "shape = input(\"도형의 모형 : \")\n",
    "r = float(input(\"반지름 또는 한변의 길이 : \"))\n",
    "calc_area(shape,r)\n",
    "print(area)"
   ]
  },
  {
   "cell_type": "code",
   "execution_count": 17,
   "metadata": {},
   "outputs": [
    {
     "name": "stdout",
     "output_type": "stream",
     "text": [
      "태양님 안녕하세요?\n"
     ]
    }
   ],
   "source": [
    "def message(name,msg=\"안녕하세요?\"):\n",
    "    print(\"{0}님 {1}\".format(name,msg))\n",
    "    \n",
    "    \n",
    "message(\"태양\")"
   ]
  },
  {
   "cell_type": "code",
   "execution_count": 23,
   "metadata": {},
   "outputs": [
    {
     "name": "stdout",
     "output_type": "stream",
     "text": [
      "찾을 영웅 : 잠자리맨\n",
      "영웅이 존재하지않습니다. 추가하시겠어요? Y/Ny\n",
      "현재 영웅 목록입니다.\n",
      "배트맨 슈퍼맨 아이언맨 잠자리맨 태양맨 태양짱짱맨 "
     ]
    }
   ],
   "source": [
    "heroes = [\"슈퍼맨\",\"아이언맨\",\"배트맨\",\"태양맨\",\"태양짱짱맨\"]\n",
    "\n",
    "str = input(\"찾을 영웅 : \")\n",
    "\n",
    "if str in heroes:\n",
    "    flag = input(\"영웅이 존재합니다. 지우시겠어요? Y/N\")\n",
    "    if flag == \"Y\" or flag == 'y':\n",
    "        heroes.remove(str)\n",
    "else:\n",
    "    flag = input(\"영웅이 존재하지않습니다. 추가하시겠어요? Y/N\")\n",
    "    if flag == \"Y\" or flag == 'y':\n",
    "        heroes.append(str)\n",
    "\n",
    "        \n",
    "heroes.sort()\n",
    "\n",
    "print(\"현재 영웅 목록입니다.\")\n",
    "for s in heroes:\n",
    "    print(s,end=\" \")"
   ]
  },
  {
   "cell_type": "code",
   "execution_count": 26,
   "metadata": {},
   "outputs": [
    {
     "name": "stdout",
     "output_type": "stream",
     "text": [
      "무엇을 하시겠어요? (물품추가, 재고관리, 나가기) : 물품추가\n",
      "물품명 : 콜라\n",
      "물품 갯수 : 4\n",
      "무엇을 하시겠어요? (물품추가, 재고관리, 나가기) : 물품추가\n",
      "물품명 : 콜라\n",
      "물품 갯수 : 3\n",
      "무엇을 하시겠어요? (물품추가, 재고관리, 나가기) : 재고관리\n",
      "현재 물건 및 수량입니다\n",
      "콜라 3\n",
      "무엇을 하시겠어요? (수량증가,수량감소) : 수량증가\n",
      "물품명 : 콜라\n",
      "갯수 : 20\n",
      "무엇을 하시겠어요? (물품추가, 재고관리, 나가기) : 재고관리\n",
      "현재 물건 및 수량입니다\n",
      "콜라 23\n",
      "무엇을 하시겠어요? (수량증가,수량감소) : 수량감소\n",
      "물품명 : 콜라\n",
      "갯수 : 20\n",
      "무엇을 하시겠어요? (물품추가, 재고관리, 나가기) : 나가기\n"
     ]
    }
   ],
   "source": [
    "# 문제\n",
    "\n",
    "dic = {}\n",
    "\n",
    "init = \"\"\n",
    "\n",
    "while True:\n",
    "    \n",
    "    init = input(\"무엇을 하시겠어요? (물품추가, 재고관리, 나가기) : \")\n",
    "    \n",
    "    if init ==\"나가기\":\n",
    "        break\n",
    "\n",
    "    if init == \"물품추가\":\n",
    "        stuff = input(\"물품명 : \")\n",
    "        count = int(input(\"물품 갯수 : \"))\n",
    "        dic[stuff] = count\n",
    "    \n",
    "    if init == \"재고관리\":\n",
    "        print(\"현재 물건 및 수량입니다\")\n",
    "        for key in dic.keys():\n",
    "            print(key,dic[key])\n",
    "            \n",
    "        flag = input(\"무엇을 하시겠어요? (수량증가,수량감소) : \")\n",
    "        stuff = input(\"물품명 : \")\n",
    "        count = int(input(\"갯수 : \"))\n",
    "        if flag == \"수량증가\":\n",
    "            dic[stuff] += count\n",
    "        if flag == \"수량감소\":\n",
    "            dic[stuff] -= count\n",
    "            \n",
    "            "
   ]
  },
  {
   "cell_type": "code",
   "execution_count": null,
   "metadata": {},
   "outputs": [],
   "source": []
  }
 ],
 "metadata": {
  "kernelspec": {
   "display_name": "Python 3",
   "language": "python",
   "name": "python3"
  },
  "language_info": {
   "codemirror_mode": {
    "name": "ipython",
    "version": 3
   },
   "file_extension": ".py",
   "mimetype": "text/x-python",
   "name": "python",
   "nbconvert_exporter": "python",
   "pygments_lexer": "ipython3",
   "version": "3.8.3"
  }
 },
 "nbformat": 4,
 "nbformat_minor": 4
}
