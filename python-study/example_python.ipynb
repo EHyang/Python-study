{
 "cells": [
  {
   "cell_type": "code",
   "execution_count": 2,
   "metadata": {},
   "outputs": [
    {
     "name": "stdout",
     "output_type": "stream",
     "text": [
      "Life\n"
     ]
    }
   ],
   "source": [
    "str = \"Life is too short, You need Python\"\n",
    "\n",
    "print(str[0:4])"
   ]
  },
  {
   "cell_type": "code",
   "execution_count": 4,
   "metadata": {},
   "outputs": [
    {
     "name": "stdout",
     "output_type": "stream",
     "text": [
      "Life\n"
     ]
    }
   ],
   "source": [
    "b = str[:4]\n",
    "print(b)"
   ]
  },
  {
   "cell_type": "code",
   "execution_count": 5,
   "metadata": {},
   "outputs": [
    {
     "name": "stdout",
     "output_type": "stream",
     "text": [
      "is too short, You need Python\n"
     ]
    }
   ],
   "source": [
    "c = str[5:]\n",
    "print(c)"
   ]
  },
  {
   "cell_type": "code",
   "execution_count": 6,
   "metadata": {},
   "outputs": [
    {
     "name": "stdout",
     "output_type": "stream",
     "text": [
      "I'm 26 years old!\n"
     ]
    }
   ],
   "source": [
    "a = 26\n",
    "\n",
    "print(\"I'm %d years old!\" %a)"
   ]
  },
  {
   "cell_type": "code",
   "execution_count": 8,
   "metadata": {},
   "outputs": [
    {
     "name": "stdout",
     "output_type": "stream",
     "text": [
      "I'm 26 years old!\n"
     ]
    }
   ],
   "source": [
    "a = 20\n",
    "b = 6\n",
    "\n",
    "print(\"I'm %d years old!\" %(a+b))"
   ]
  },
  {
   "cell_type": "code",
   "execution_count": 11,
   "metadata": {},
   "outputs": [],
   "source": [
    "# print(\"I'm %d years old!\" %a+%b) 오류"
   ]
  },
  {
   "cell_type": "code",
   "execution_count": 13,
   "metadata": {},
   "outputs": [
    {
     "name": "stdout",
     "output_type": "stream",
     "text": [
      "My name is Tae yang\n"
     ]
    }
   ],
   "source": [
    "age = 26\n",
    "name = \"Tae yang\"\n",
    "\n",
    "print(\"My name is {0}\".format(name))"
   ]
  },
  {
   "cell_type": "code",
   "execution_count": 14,
   "metadata": {},
   "outputs": [
    {
     "name": "stdout",
     "output_type": "stream",
     "text": [
      "My name is Tae yang, I'm 26 years old.\n"
     ]
    }
   ],
   "source": [
    "print(\"My name is {0}, I'm {1} years old.\".format(name,age))"
   ]
  },
  {
   "cell_type": "code",
   "execution_count": 15,
   "metadata": {},
   "outputs": [
    {
     "name": "stdout",
     "output_type": "stream",
     "text": [
      "My name is Taeyang, I'm 26 years old.\n"
     ]
    }
   ],
   "source": [
    "print(\"My name is {name}, I'm {age} years old.\".format(name = \"Taeyang\",age=26))"
   ]
  },
  {
   "cell_type": "code",
   "execution_count": 16,
   "metadata": {},
   "outputs": [
    {
     "name": "stdout",
     "output_type": "stream",
     "text": [
      "1\n"
     ]
    }
   ],
   "source": [
    "a = \"Perfect\"\n",
    "\n",
    "print(a.count('P'))"
   ]
  },
  {
   "cell_type": "code",
   "execution_count": 25,
   "metadata": {},
   "outputs": [
    {
     "name": "stdout",
     "output_type": "stream",
     "text": [
      "3\n",
      "-1\n"
     ]
    }
   ],
   "source": [
    "print(a.find('f')) # 위치인덱스 return\n",
    "print(a.find('a')) # 없을땐 -1 return"
   ]
  },
  {
   "cell_type": "code",
   "execution_count": 27,
   "metadata": {},
   "outputs": [
    {
     "name": "stdout",
     "output_type": "stream",
     "text": [
      "3\n"
     ]
    }
   ],
   "source": [
    "print(a.index('f')) # 위치 인덱스 find과 같지만, 없을경우는 오류가 발생"
   ]
  },
  {
   "cell_type": "code",
   "execution_count": 28,
   "metadata": {},
   "outputs": [
    {
     "name": "stdout",
     "output_type": "stream",
     "text": [
      "a,b,c,d\n",
      "a,b,c,d\n",
      "a#b#c#d\n"
     ]
    }
   ],
   "source": [
    "print(\",\".join('abcd'))\n",
    "print(\",\".join(['a','b','c','d']))\n",
    "\n",
    "print(\"#\".join('abcd'))\n",
    "\n",
    "#join 은 사이에 앞문자 삽입"
   ]
  },
  {
   "cell_type": "code",
   "execution_count": 29,
   "metadata": {},
   "outputs": [
    {
     "name": "stdout",
     "output_type": "stream",
     "text": [
      "hello\n",
      "HELLO\n"
     ]
    }
   ],
   "source": [
    "a = \"HELLO\"\n",
    "b = \"hello\"\n",
    "\n",
    "print(a.lower())\n",
    "print(b.upper())"
   ]
  },
  {
   "cell_type": "code",
   "execution_count": 32,
   "metadata": {},
   "outputs": [
    {
     "name": "stdout",
     "output_type": "stream",
     "text": [
      " HELLO\n",
      "HELLO \n",
      "HELLO\n"
     ]
    }
   ],
   "source": [
    "a = \" HELLO \"\n",
    "\n",
    "print(a.rstrip()) # 오른쪽 공백 삭제\n",
    "print(a.lstrip()) # 왼쪽 공백 삭제\n",
    "print(a.strip()) # 양쪽모두 삭제"
   ]
  },
  {
   "cell_type": "code",
   "execution_count": 34,
   "metadata": {},
   "outputs": [
    {
     "name": "stdout",
     "output_type": "stream",
     "text": [
      "Hello, Guest!\n"
     ]
    }
   ],
   "source": [
    "a = \"Hello, world!\"\n",
    "\n",
    "print(a.replace(\"world!\", \"Guest!\"))\n",
    "#replace(\"바꿀놈\", \"바뀔놈\")"
   ]
  },
  {
   "cell_type": "code",
   "execution_count": 41,
   "metadata": {},
   "outputs": [
    {
     "name": "stdout",
     "output_type": "stream",
     "text": [
      "['Hello,', 'world!']\n",
      "['a', 'b', 'c', 'd']\n"
     ]
    }
   ],
   "source": [
    "a = \"Hello, world!\"\n",
    "b = \"a:b:c:d\"\n",
    "\n",
    "print(a.split())\n",
    "print(b.split(':'))"
   ]
  },
  {
   "cell_type": "code",
   "execution_count": 43,
   "metadata": {},
   "outputs": [
    {
     "name": "stdout",
     "output_type": "stream",
     "text": [
      "world!\n"
     ]
    }
   ],
   "source": [
    "print(a.split()[1])"
   ]
  },
  {
   "cell_type": "code",
   "execution_count": 44,
   "metadata": {},
   "outputs": [
    {
     "name": "stdout",
     "output_type": "stream",
     "text": [
      "Hello,hello\n",
      "world!hello\n"
     ]
    }
   ],
   "source": [
    "for str in a.split():\n",
    "    print(str + \"hello\")"
   ]
  },
  {
   "cell_type": "code",
   "execution_count": 50,
   "metadata": {},
   "outputs": [
    {
     "name": "stdout",
     "output_type": "stream",
     "text": [
      "[1, 2, 3, 4]\n",
      "[4, 3, 2, 1]\n"
     ]
    }
   ],
   "source": [
    "a = [1,3,2,4]\n",
    "\n",
    "a.sort()\n",
    "print(a)\n",
    "\n",
    "a.reverse()\n",
    "print(a)\n",
    "# 내림차순은 오름차순 후 반대로 돌리기"
   ]
  },
  {
   "cell_type": "code",
   "execution_count": 53,
   "metadata": {},
   "outputs": [
    {
     "name": "stdout",
     "output_type": "stream",
     "text": [
      "[1, 2, 3, 4, 5]\n"
     ]
    }
   ],
   "source": [
    "a = [1,2,4,5]\n",
    "\n",
    "a.insert(2,3) # 2번 인덱스에 3을 추가\n",
    "\n",
    "print(a)"
   ]
  },
  {
   "cell_type": "code",
   "execution_count": 56,
   "metadata": {},
   "outputs": [
    {
     "name": "stdout",
     "output_type": "stream",
     "text": [
      "[1, 2, 3, 4, 5, 6]\n",
      "[1, 2, 3, 4, 5, 6, 7, 8]\n",
      "[1, 2, 3, 4, 5, 6, 7, 8, 9, 10]\n"
     ]
    }
   ],
   "source": [
    "a = [1,2,3,4]\n",
    "b = [9,10]\n",
    "a.extend([5,6])\n",
    "\n",
    "print(a)\n",
    "\n",
    "a+=[7,8]\n",
    "\n",
    "print(a)\n",
    "\n",
    "a+=b\n",
    "print(a)"
   ]
  },
  {
   "cell_type": "code",
   "execution_count": 61,
   "metadata": {},
   "outputs": [
    {
     "name": "stdout",
     "output_type": "stream",
     "text": [
      "('a', 'b', ('ab', 'cd'))\n",
      "('ab', 'cd')\n",
      "cd\n"
     ]
    }
   ],
   "source": [
    "#tuple\n",
    "# list와 동일, but 수정 삭제 불가\n",
    "a = ()\n",
    "a1 = (1,)\n",
    "a2 = (1,2,3)\n",
    "a3 = 1,2,3\n",
    "a4 = ('a','b',('ab','cd'))\n",
    "\n",
    "print(a4)\n",
    "print(a4[2])\n",
    "print(a4[2][1])"
   ]
  },
  {
   "cell_type": "code",
   "execution_count": 62,
   "metadata": {},
   "outputs": [
    {
     "name": "stdout",
     "output_type": "stream",
     "text": [
      "name\n"
     ]
    }
   ],
   "source": [
    "#dictionary\n",
    "\n",
    "a = {\"kim\" : 'name'}\n",
    "print(a[\"kim\"])"
   ]
  },
  {
   "cell_type": "code",
   "execution_count": 65,
   "metadata": {},
   "outputs": [
    {
     "name": "stdout",
     "output_type": "stream",
     "text": [
      "[1, 2, 3, 4, 5]\n",
      "2\n"
     ]
    }
   ],
   "source": [
    "a = {\"list\" : [1,2,3,4,5]}\n",
    "\n",
    "print(a[\"list\"])\n",
    "print(a[\"list\"][1])"
   ]
  },
  {
   "cell_type": "code",
   "execution_count": 66,
   "metadata": {},
   "outputs": [
    {
     "name": "stdout",
     "output_type": "stream",
     "text": [
      "{'name': 'taeyang', 'full': ['Kim', 'Tae', 'Yang']}\n"
     ]
    }
   ],
   "source": [
    "a = {\"name\" : \"taeyang\"}\n",
    "a[\"full\"] = [\"Kim\",\"Tae\",\"Yang\"]\n",
    "\n",
    "print(a)"
   ]
  },
  {
   "cell_type": "code",
   "execution_count": 71,
   "metadata": {},
   "outputs": [
    {
     "name": "stdout",
     "output_type": "stream",
     "text": [
      "taeyang\n",
      "['Kim', 'Tae', 'Yang']\n",
      "LOL\n"
     ]
    }
   ],
   "source": [
    "a[0] = \"LOL\"\n",
    "\n",
    "print(a[\"name\"])\n",
    "print(a[\"full\"])\n",
    "print(a[0])"
   ]
  },
  {
   "cell_type": "code",
   "execution_count": 72,
   "metadata": {},
   "outputs": [
    {
     "name": "stdout",
     "output_type": "stream",
     "text": [
      "{'name': 'taeyang', 'full': ['Kim', 'Tae', 'Yang'], 0: 'LOL'}\n",
      "{'name': 'taeyang', 'full': ['Kim', 'Tae', 'Yang']}\n"
     ]
    }
   ],
   "source": [
    "print(a)\n",
    "\n",
    "del a[0]\n",
    "\n",
    "print(a)"
   ]
  },
  {
   "cell_type": "code",
   "execution_count": 73,
   "metadata": {},
   "outputs": [
    {
     "name": "stdout",
     "output_type": "stream",
     "text": [
      "hello\n"
     ]
    }
   ],
   "source": [
    "a = {(1,2) : \"hello\"}\n",
    "\n",
    "print(a[(1,2)])"
   ]
  },
  {
   "cell_type": "code",
   "execution_count": 74,
   "metadata": {},
   "outputs": [
    {
     "name": "stdout",
     "output_type": "stream",
     "text": [
      "(1, 2)\n"
     ]
    }
   ],
   "source": [
    "for i in a:\n",
    "    print(i)"
   ]
  },
  {
   "cell_type": "code",
   "execution_count": 75,
   "metadata": {},
   "outputs": [
    {
     "name": "stdout",
     "output_type": "stream",
     "text": [
      "name\n",
      "full\n"
     ]
    }
   ],
   "source": [
    "a = {\"name\" : \"taeyang\" , \"full\" : [\"Kim\",\"Tae\",\"Yang\"]}\n",
    "\n",
    "for i in a:\n",
    "    print(i)"
   ]
  },
  {
   "cell_type": "code",
   "execution_count": 76,
   "metadata": {},
   "outputs": [
    {
     "name": "stdout",
     "output_type": "stream",
     "text": [
      "taeyang\n",
      "['Kim', 'Tae', 'Yang']\n"
     ]
    }
   ],
   "source": [
    "for i in a:\n",
    "    print(a[i])"
   ]
  },
  {
   "cell_type": "code",
   "execution_count": 77,
   "metadata": {},
   "outputs": [
    {
     "name": "stdout",
     "output_type": "stream",
     "text": [
      "dict_keys(['name', 'full'])\n",
      "name\n",
      "full\n"
     ]
    }
   ],
   "source": [
    "print(a.keys())\n",
    "\n",
    "for i in a.keys():\n",
    "    print(i)"
   ]
  },
  {
   "cell_type": "code",
   "execution_count": 78,
   "metadata": {},
   "outputs": [
    {
     "name": "stdout",
     "output_type": "stream",
     "text": [
      "dict_values(['taeyang', ['Kim', 'Tae', 'Yang']])\n",
      "taeyang\n",
      "['Kim', 'Tae', 'Yang']\n"
     ]
    }
   ],
   "source": [
    "print(a.values())\n",
    "\n",
    "for i in a.values():\n",
    "    print(i)"
   ]
  },
  {
   "cell_type": "code",
   "execution_count": 79,
   "metadata": {},
   "outputs": [
    {
     "name": "stdout",
     "output_type": "stream",
     "text": [
      "dict_items([('name', 'taeyang'), ('full', ['Kim', 'Tae', 'Yang'])])\n"
     ]
    }
   ],
   "source": [
    "print(a.items())"
   ]
  },
  {
   "cell_type": "code",
   "execution_count": 82,
   "metadata": {},
   "outputs": [
    {
     "name": "stdout",
     "output_type": "stream",
     "text": [
      "taeyang\n",
      "default\n"
     ]
    }
   ],
   "source": [
    "print(a.get('name'))\n",
    "\n",
    "# 없는 key 값의 경우 get은 None을 리턴 직접은 오류가 나옴\n",
    "\n",
    "print(a.get('x','default'))\n",
    "\n",
    "# 없을 경우 정해둔 default값 리턴 가능"
   ]
  },
  {
   "cell_type": "code",
   "execution_count": 84,
   "metadata": {},
   "outputs": [
    {
     "name": "stdout",
     "output_type": "stream",
     "text": [
      "True\n",
      "False\n"
     ]
    }
   ],
   "source": [
    "# if에서 : 은 필수\n",
    "\n",
    "a = [1,2,3,4,5]\n",
    "\n",
    "print(1 in a)\n",
    "print(1 not in a)"
   ]
  },
  {
   "cell_type": "code",
   "execution_count": 88,
   "metadata": {},
   "outputs": [
    {
     "name": "stdout",
     "output_type": "stream",
     "text": [
      "여기있었네!, 드세요!\n"
     ]
    }
   ],
   "source": [
    "a = ['apple','banana','melon']\n",
    "b = ['watermelon','orange']\n",
    "\n",
    "if 'orange' in a:\n",
    "    print(\"오렌지 주스 드세용\")\n",
    "\n",
    "elif b:\n",
    "    print(\"여기있었네!, 드세요!\")\n",
    "\n",
    "else:\n",
    "    print(\"없다ㅠㅠ 미안합니다\")"
   ]
  },
  {
   "cell_type": "code",
   "execution_count": 89,
   "metadata": {},
   "outputs": [
    {
     "name": "stdout",
     "output_type": "stream",
     "text": [
      "great\n"
     ]
    }
   ],
   "source": [
    "score = 70\n",
    "\n",
    "if score >=60:\n",
    "    message = \"great\"\n",
    "else:\n",
    "    message = \"bad\"\n",
    "    \n",
    "print(message)"
   ]
  },
  {
   "cell_type": "code",
   "execution_count": 91,
   "metadata": {},
   "outputs": [
    {
     "name": "stdout",
     "output_type": "stream",
     "text": [
      "smart!\n"
     ]
    }
   ],
   "source": [
    "message = \"stupid\" if score <= 50 else \"smart!\"\n",
    "print(message)"
   ]
  },
  {
   "cell_type": "code",
   "execution_count": null,
   "metadata": {},
   "outputs": [],
   "source": []
  }
 ],
 "metadata": {
  "kernelspec": {
   "display_name": "Python 3",
   "language": "python",
   "name": "python3"
  },
  "language_info": {
   "codemirror_mode": {
    "name": "ipython",
    "version": 3
   },
   "file_extension": ".py",
   "mimetype": "text/x-python",
   "name": "python",
   "nbconvert_exporter": "python",
   "pygments_lexer": "ipython3",
   "version": "3.8.3"
  }
 },
 "nbformat": 4,
 "nbformat_minor": 4
}
